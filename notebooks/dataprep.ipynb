{
 "cells": [
  {
   "cell_type": "code",
   "id": "initial_id",
   "metadata": {
    "collapsed": true,
    "ExecuteTime": {
     "end_time": "2025-01-25T17:52:51.366387Z",
     "start_time": "2025-01-25T17:52:51.011278Z"
    }
   },
   "source": [
    "import pandas as pd\n",
    "from catboost import datasets\n"
   ],
   "outputs": [],
   "execution_count": 2
  },
  {
   "metadata": {
    "ExecuteTime": {
     "end_time": "2025-01-25T17:56:17.891560Z",
     "start_time": "2025-01-25T17:56:17.649249Z"
    }
   },
   "cell_type": "code",
   "source": "!mkdir ../data",
   "id": "1d6d471c7cf82082",
   "outputs": [],
   "execution_count": 6
  },
  {
   "metadata": {
    "ExecuteTime": {
     "end_time": "2025-01-25T17:56:22.320883Z",
     "start_time": "2025-01-25T17:56:21.783855Z"
    }
   },
   "cell_type": "code",
   "source": [
    "\n",
    "# Load the Titanic dataset\n",
    "train_data, test_data = datasets.titanic()\n"
   ],
   "id": "e9ea45906d275b13",
   "outputs": [],
   "execution_count": 7
  },
  {
   "metadata": {
    "ExecuteTime": {
     "end_time": "2025-01-25T17:56:23.179533Z",
     "start_time": "2025-01-25T17:56:23.167355Z"
    }
   },
   "cell_type": "code",
   "source": [
    "\n",
    "titanictrain = pd.DataFrame(train_data)\n",
    "titanictrain.to_csv('../data/titanictrain.csv', index=False)\n"
   ],
   "id": "42f61b45bd5b0c46",
   "outputs": [],
   "execution_count": 8
  },
  {
   "metadata": {},
   "cell_type": "code",
   "outputs": [],
   "execution_count": null,
   "source": "",
   "id": "d8d8e8dc4579c0b4"
  },
  {
   "metadata": {},
   "cell_type": "code",
   "outputs": [],
   "execution_count": null,
   "source": "",
   "id": "7ff8fed1386a8543"
  },
  {
   "metadata": {},
   "cell_type": "code",
   "outputs": [],
   "execution_count": null,
   "source": "",
   "id": "68af8de5584a51a2"
  }
 ],
 "metadata": {
  "kernelspec": {
   "display_name": "Python 3",
   "language": "python",
   "name": "python3"
  },
  "language_info": {
   "codemirror_mode": {
    "name": "ipython",
    "version": 2
   },
   "file_extension": ".py",
   "mimetype": "text/x-python",
   "name": "python",
   "nbconvert_exporter": "python",
   "pygments_lexer": "ipython2",
   "version": "2.7.6"
  }
 },
 "nbformat": 4,
 "nbformat_minor": 5
}
